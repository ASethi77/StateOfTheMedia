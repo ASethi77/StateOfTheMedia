{
 "cells": [
  {
   "cell_type": "code",
   "execution_count": null,
   "metadata": {},
   "outputs": [],
   "source": [
    "# adding this to suppress sklearn DeprecationWarnings...\n",
    "import os\n",
    "os.environ[\"WORD_SENTIMENT_PATH\"] = '.\\\\subjclueslen1-HLTEMNLP05.tff'\n",
    "os.environ[\"FEATURE_CACHE_DIR\"] = '..\\\\cache\\\\'\n",
    "from mpl_toolkits.mplot3d import Axes3D\n",
    "from model.linear_regression_model import LinearRegressionModel\n",
    "from model.MLPRegressionModel import MLPRegressionModel\n",
    "from model.lstm_regression_model import LSTMRegressionModel\n",
    "\n",
    "def warn(*args, **kwargs):\n",
    "    pass\n",
    "import warnings\n",
    "warnings.warn = warn\n",
    "\n",
    "import time\n",
    "from sklearn.model_selection import train_test_split\n",
    "\n",
    "from util.config import Config, RegressionModels\n",
    "import matplotlib.pyplot as plt\n",
    "from matplotlib import cm\n",
    "\n",
    "from model.overall_runner import corpora_to_day_features, \\\n",
    "                                 init_corpora, combine_day_ranges, match_features_to_labels\n",
    "    \n",
    "import math\n",
    "from matplotlib import pyplot as plt\n",
    "import numpy as np\n",
    "import os\n",
    "import pandas as pd\n",
    "import time\n",
    "\n",
    "import cntk as C\n",
    "import cntk.axis\n",
    "from cntk.layers import Dense, Dropout, Recurrence\n",
    "\n",
    "from IPython import display\n",
    "\n",
    "%matplotlib inline\n",
    "\n",
    "print('done importing')"
   ]
  },
  {
   "cell_type": "code",
   "execution_count": null,
   "metadata": {
    "scrolled": false
   },
   "outputs": [],
   "source": [
    "PREDICT_DELAY_RANGE = range(1, 2)\n",
    "DAY_RANGE_RANGE = range(1, 2)\n",
    "\n",
    "delay = 1\n",
    "day_range = 1\n",
    "\n",
    "plot_x = [[]]\n",
    "plot_y = [[]]\n",
    "plot_z = [[]]\n",
    "\n",
    "approval_ratings, political_article_corpora = init_corpora();\n",
    "\n",
    "plot_x[delay - 1].append(delay)\n",
    "plot_y[delay - 1].append(day_range)\n",
    "Config.POLL_DELAY = delay\n",
    "Config.DAY_RANGE = day_range\n",
    "\n",
    "features_by_day = corpora_to_day_features(political_article_corpora);\n",
    "features_by_range = combine_day_ranges(features_by_day)\n",
    "X, Y = match_features_to_labels(features_by_day, approval_ratings);\n",
    "\n",
    "X_train_and_val, X_test, Y_train_and_val, Y_test = \\\n",
    "        train_test_split(X, Y, test_size=Config.TRAINING_PARTITION, random_state=2)\n",
    "\n",
    "X_train, X_val, Y_train, Y_val = \\\n",
    "        train_test_split(X_train_and_val, Y_train_and_val, test_size=0.125, random_state=2)\n",
    "\n",
    "if Config.REGRESSION_MODEL == RegressionModels.LINEAR_REGRESSION:\n",
    "    model = LSTMRegressionModel([X_train, Y_train], val_data=[X_val, Y_val], test_data=[X_test, Y_test])\n",
    "elif Config.REGRESSION_MODEL == RegressionModels.MLP:\n",
    "    model = MLPRegressionModel([X_train, Y_train])"
   ]
  },
  {
   "cell_type": "code",
   "execution_count": null,
   "metadata": {
    "scrolled": false
   },
   "outputs": [],
   "source": [
    "model.train()"
   ]
  },
  {
   "cell_type": "code",
   "execution_count": null,
   "metadata": {
    "collapsed": true
   },
   "outputs": [],
   "source": []
  }
 ],
 "metadata": {
  "kernelspec": {
   "display_name": "Python 3",
   "language": "python",
   "name": "python3"
  },
  "language_info": {
   "codemirror_mode": {
    "name": "ipython",
    "version": 3
   },
   "file_extension": ".py",
   "mimetype": "text/x-python",
   "name": "python",
   "nbconvert_exporter": "python",
   "pygments_lexer": "ipython3",
   "version": "3.5.2"
  }
 },
 "nbformat": 4,
 "nbformat_minor": 2
}
